{
 "cells": [
  {
   "cell_type": "code",
   "execution_count": null,
   "id": "e6313d3c",
   "metadata": {},
   "outputs": [],
   "source": [
    "\"\"\"\n",
    "2. Написати програми для реєстрації і авторизації користувача з наступним функціоналом:\n",
    "- отримання в інтерактивному режимі логіну і пароля користувача;\n",
    "-верифікація пароля і його шифрування за алгоритмом обраним алгоритмом шифрування;\n",
    "-запис пари \"логін-пароль\" у словник з перевіркою на колізії;\n",
    "-авторизація користувача за логіном і паролем.\n",
    "\"\"\""
   ]
  },
  {
   "cell_type": "code",
   "execution_count": 1,
   "id": "8028f48f",
   "metadata": {},
   "outputs": [
    {
     "name": "stdout",
     "output_type": "stream",
     "text": [
      "1. Register\n",
      "2. Login\n",
      "3. Print users\n",
      "4. Exit\n",
      "Enter your choice: 1\n",
      "Enter your username: Bob45\n",
      "Enter your password: 123456\n",
      "Registration successful.\n",
      "1. Register\n",
      "2. Login\n",
      "3. Print users\n",
      "4. Exit\n",
      "Enter your choice: 3\n",
      "{'Bob45': '8d969eef6ecad3c29a3a629280e686cf0c3f5d5a86aff3ca12020c923adc6c92'}\n",
      "1. Register\n",
      "2. Login\n",
      "3. Print users\n",
      "4. Exit\n",
      "Enter your choice: 2\n",
      "Enter your username: bob45\n",
      "Enter your password: 123\n",
      "Incorrect username or password. Please try again.\n",
      "1. Register\n",
      "2. Login\n",
      "3. Print users\n",
      "4. Exit\n",
      "Enter your choice: 2\n",
      "Enter your username: Bob45\n",
      "Enter your password: 123456\n",
      "Login successful.\n",
      "1. Register\n",
      "2. Login\n",
      "3. Print users\n",
      "4. Exit\n",
      "Enter your choice: 4\n"
     ]
    }
   ],
   "source": [
    "import hashlib\n",
    "\n",
    "class UserAuth:\n",
    "    def __init__(self):\n",
    "        self.users = {}\n",
    "\n",
    "    def register(self):\n",
    "        username = input(\"Enter your username: \")\n",
    "        password = input(\"Enter your password: \")\n",
    "        hashed_password = hashlib.sha256(password.encode()).hexdigest()\n",
    "        if username in self.users:\n",
    "            print(\"This username already exists. Please try again.\")\n",
    "        else:\n",
    "            self.users[username] = hashed_password\n",
    "            print(\"Registration successful.\")\n",
    "\n",
    "    def login(self):\n",
    "        username = input(\"Enter your username: \")\n",
    "        password = input(\"Enter your password: \")\n",
    "        hashed_password = hashlib.sha256(password.encode()).hexdigest()\n",
    "        if username not in self.users or self.users[username] != hashed_password:\n",
    "            print(\"Incorrect username or password. Please try again.\")\n",
    "        else:\n",
    "            print(\"Login successful.\")\n",
    "\n",
    "    def print_users(self):\n",
    "        print(self.users)\n",
    "\n",
    "\n",
    "user_auth = UserAuth()\n",
    "while True:\n",
    "    print(\"1. Register\")\n",
    "    print(\"2. Login\")\n",
    "    print(\"3. Print users\")\n",
    "    print(\"4. Exit\")\n",
    "    choice = int(input(\"Enter your choice: \"))\n",
    "    if choice == 1:\n",
    "        user_auth.register()\n",
    "    elif choice == 2:\n",
    "        user_auth.login()\n",
    "    elif choice == 3:\n",
    "        user_auth.print_users()\n",
    "    elif choice == 4:\n",
    "        break\n",
    "    else:\n",
    "        print(\"Invalid choice. Please try again.\")"
   ]
  },
  {
   "cell_type": "code",
   "execution_count": null,
   "id": "9127ac51",
   "metadata": {},
   "outputs": [],
   "source": []
  }
 ],
 "metadata": {
  "kernelspec": {
   "display_name": "Python 3",
   "language": "python",
   "name": "python3"
  },
  "language_info": {
   "codemirror_mode": {
    "name": "ipython",
    "version": 3
   },
   "file_extension": ".py",
   "mimetype": "text/x-python",
   "name": "python",
   "nbconvert_exporter": "python",
   "pygments_lexer": "ipython3",
   "version": "3.8.10"
  }
 },
 "nbformat": 4,
 "nbformat_minor": 5
}
