{
 "cells": [
  {
   "cell_type": "code",
   "execution_count": null,
   "id": "48a14ec8",
   "metadata": {},
   "outputs": [],
   "source": [
    "\"\"\"\n",
    "1. Написати клас для створення і роботи з хеш-таблицями. Клас повинен містити наступні функції.\n",
    "- створення хеш-таблиці заданної довжини;\n",
    "- пошук, додавання і видалення нових елементів;\n",
    "- друкування хеш-таблиці;\n",
    "- виправлення колізій.\n",
    "\"\"\""
   ]
  },
  {
   "cell_type": "code",
   "execution_count": 1,
   "id": "bc181575",
   "metadata": {},
   "outputs": [],
   "source": [
    "class HashTable:\n",
    "    def __init__(self, size):\n",
    "        self.size = size\n",
    "        self.table = [[] for _ in range(size)]\n",
    "        \n",
    "#  метод використовується для визначення елемента індексу в таблиці з урахуванням його ключа\n",
    "    def hash(self, key):\n",
    "        return key % self.size\n",
    "    \n",
    "# метод додавання нових елементів\n",
    "    def insert(self, key, value):\n",
    "        index = self.hash(key)\n",
    "        for item in self.table[index]:\n",
    "            if item[0] == key:\n",
    "                item[1] = value\n",
    "                return\n",
    "        self.table[index].append([key, value])\n",
    "        \n",
    "# метод пошуку елементів\n",
    "    def search(self, key):\n",
    "        index = self.hash(key)\n",
    "        for item in self.table[index]:\n",
    "            if item[0] == key:\n",
    "                return item[1]\n",
    "        return None\n",
    "    \n",
    "# метод видалення елементів\n",
    "    def delete(self, key):\n",
    "        index = self.hash(key)\n",
    "        for i, item in enumerate(self.table[index]):\n",
    "            if item[0] == key:\n",
    "                del self.table[index][i]\n",
    "                return\n",
    "            \n",
    "# метод друкування хеш-таблиці\n",
    "    def print_ht(self):\n",
    "        for index in range(self.size):\n",
    "            #print(index, end=\" \")\n",
    "            for item in self.table[index]:\n",
    "                print(\"-->\", end=\" \")\n",
    "                print(item, end=\" \")\n",
    "            print()\n",
    "\n",
    "    def resolve_collision(self):\n",
    "        for index in range(self.size):\n",
    "            bucket = self.table[index]\n",
    "            if len(bucket) == 0:\n",
    "                continue\n",
    "            else:\n",
    "                new_bucket = []\n",
    "                for item in bucket:\n",
    "                    key = item[0]\n",
    "                    value = item[1]\n",
    "                    new_index = self.hash(key)\n",
    "                    new_bucket.append([key, value])\n",
    "                self.table[index] = new_bucket"
   ]
  },
  {
   "cell_type": "code",
   "execution_count": 2,
   "id": "0fe6585a",
   "metadata": {},
   "outputs": [
    {
     "name": "stdout",
     "output_type": "stream",
     "text": [
      "\n",
      "--> [1, 'One'] --> [11, 'Eleven'] --> [21, 'Twenty-one'] --> [31, 'Thirty-one'] --> [41, 'Forty-one'] --> [51, 'Fifty-one'] \n",
      "\n",
      "\n",
      "\n",
      "\n",
      "\n",
      "\n",
      "\n",
      "\n"
     ]
    }
   ],
   "source": [
    "hash_table = HashTable(10)\n",
    "hash_table.insert(1, \"One\")\n",
    "hash_table.insert(11, \"Eleven\")\n",
    "hash_table.insert(21, \"Twenty-one\")\n",
    "hash_table.insert(31, \"Thirty-one\")\n",
    "hash_table.insert(41, \"Forty-one\")\n",
    "hash_table.insert(51, \"Fifty-one\")\n",
    "hash_table.print_ht()"
   ]
  },
  {
   "cell_type": "code",
   "execution_count": 3,
   "id": "4c91453a",
   "metadata": {},
   "outputs": [
    {
     "name": "stdout",
     "output_type": "stream",
     "text": [
      "\n",
      "--> [1, 'One'] --> [11, 'Eleven'] --> [31, 'Thirty-one'] --> [41, 'Forty-one'] --> [51, 'Fifty-one'] \n",
      "\n",
      "\n",
      "\n",
      "\n",
      "\n",
      "\n",
      "\n",
      "\n"
     ]
    }
   ],
   "source": [
    "hash_table.delete(21)\n",
    "hash_table.print_ht()"
   ]
  },
  {
   "cell_type": "code",
   "execution_count": 4,
   "id": "ee80f0c1",
   "metadata": {},
   "outputs": [
    {
     "data": {
      "text/plain": [
       "'Eleven'"
      ]
     },
     "execution_count": 4,
     "metadata": {},
     "output_type": "execute_result"
    }
   ],
   "source": [
    "hash_table.search(11)"
   ]
  },
  {
   "cell_type": "code",
   "execution_count": 5,
   "id": "8c06c8e0",
   "metadata": {},
   "outputs": [
    {
     "name": "stdout",
     "output_type": "stream",
     "text": [
      "\n",
      "--> [1, 'One'] --> [11, 'Eleven'] --> [31, 'Thirty-one'] --> [41, 'Forty-one'] --> [51, 'Fifty-one'] \n",
      "\n",
      "\n",
      "\n",
      "\n",
      "\n",
      "\n",
      "\n",
      "\n"
     ]
    }
   ],
   "source": [
    "hash_table.insert(31, \"Thirty-one\")\n",
    "hash_table.print_ht()"
   ]
  },
  {
   "cell_type": "code",
   "execution_count": 6,
   "id": "3fd895e2",
   "metadata": {},
   "outputs": [
    {
     "name": "stdout",
     "output_type": "stream",
     "text": [
      "\n",
      "--> [1, 'One'] --> [11, 'Eleven'] --> [31, 'Thirty-one'] --> [41, 'Forty-one'] --> [51, 'Fifty-one'] \n",
      "\n",
      "\n",
      "\n",
      "\n",
      "\n",
      "\n",
      "\n",
      "\n"
     ]
    }
   ],
   "source": [
    "hash_table.resolve_collision()\n",
    "hash_table.print_ht()"
   ]
  },
  {
   "cell_type": "code",
   "execution_count": null,
   "id": "73e6d8e9",
   "metadata": {},
   "outputs": [],
   "source": []
  }
 ],
 "metadata": {
  "kernelspec": {
   "display_name": "Python 3",
   "language": "python",
   "name": "python3"
  },
  "language_info": {
   "codemirror_mode": {
    "name": "ipython",
    "version": 3
   },
   "file_extension": ".py",
   "mimetype": "text/x-python",
   "name": "python",
   "nbconvert_exporter": "python",
   "pygments_lexer": "ipython3",
   "version": "3.8.10"
  }
 },
 "nbformat": 4,
 "nbformat_minor": 5
}
